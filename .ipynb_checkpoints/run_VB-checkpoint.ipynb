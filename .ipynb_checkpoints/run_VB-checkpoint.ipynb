{
 "cells": [
  {
   "cell_type": "code",
   "execution_count": 3,
   "id": "10a0811c",
   "metadata": {
    "scrolled": true
   },
   "outputs": [
    {
     "name": "stdout",
     "output_type": "stream",
     "text": [
      "diffρ=(0.008875784956933499,0.007844676428242034,0.0)\n",
      "1\n"
     ]
    },
    {
     "name": "stderr",
     "output_type": "stream",
     "text": [
      "WARNING: replacing module NuclParameters.\n",
      "WARNING: replacing module LambdaParameters.\n",
      "WARNING: replacing module MyLib.\n"
     ]
    },
    {
     "name": "stdout",
     "output_type": "stream",
     "text": [
      "diffρ=(0.004342042729557224,0.0038626343379236554,0.0)\n",
      "2\n",
      "diffρ=(0.00021622192426145535,0.00020118972225303592,0.0)\n",
      "3\n",
      "diffρ=(2.1430210144900724e-5,2.1236647647423075e-5,0.0)\n",
      "4\n",
      "diffρ=(2.1903315312538644e-6,2.2349740340501217e-6,0.0)\n"
     ]
    }
   ],
   "source": [
    "include(\"Main.jl\")\n",
    "AN=AtomNum(8,8,0)\n",
    "NParamType=\"VB1\"\n",
    "LParamType=\"NaN\"\n",
    "OutPutFiles(AN,NParamType=NParamType,LParamType=LParamType)"
   ]
  },
  {
   "cell_type": "code",
   "execution_count": 2,
   "id": "669a222c",
   "metadata": {},
   "outputs": [
    {
     "name": "stdout",
     "output_type": "stream",
     "text": [
      "diffρ=(0.026935290199375163,0.017451544880970418,0.0)\n",
      "1\n",
      "diffρ=(0.00875544872579012,0.006449401613034886,0.0)\n",
      "2\n",
      "diffρ=(0.0010792035452364703,0.0012033440760480009,0.0)\n",
      "3\n",
      "diffρ=(0.00044043834862695123,0.00045838935615274474,0.0)\n",
      "4\n",
      "diffρ=(0.00017540090156088482,0.00018369277597583643,0.0)\n",
      "5\n",
      "diffρ=(7.081138697021123e-5,7.373899973390016e-5,0.0)\n",
      "6\n",
      "diffρ=(2.8206368071672246e-5,2.9334836695475335e-5,0.0)\n",
      "7\n",
      "diffρ=(1.1305757538046682e-5,1.1759801652272102e-5,0.0)\n",
      "8\n",
      "diffρ=(4.496485758139727e-6,4.672825770177857e-6,0.0)\n"
     ]
    },
    {
     "name": "stderr",
     "output_type": "stream",
     "text": [
      "WARNING: replacing module NuclParameters.\n",
      "WARNING: replacing module LambdaParameters.\n",
      "WARNING: replacing module MyLib.\n"
     ]
    }
   ],
   "source": [
    "include(\"Main.jl\")\n",
    "AN=AtomNum(20,20,0)\n",
    "NParamType=\"VB1\"\n",
    "LParamType=\"NaN\"\n",
    "OutPutFiles(AN,NParamType=NParamType,LParamType=LParamType)"
   ]
  },
  {
   "cell_type": "code",
   "execution_count": 3,
   "id": "34ddfcec",
   "metadata": {},
   "outputs": [
    {
     "name": "stdout",
     "output_type": "stream",
     "text": [
      "diffρ=(0.06553733357909103,0.05036255659855078,0.0)\n",
      "1\n",
      "diffρ=(0.020162753085885506,0.018518451180037154,0.0)\n",
      "2\n",
      "diffρ=(0.0007385127550973359,0.0018132582903097453,0.0)\n",
      "3\n",
      "diffρ=(0.0003304976838708763,0.00040572669339578233,0.0)\n",
      "4\n",
      "diffρ=(9.87029928669339e-5,0.00012745913830789702,0.0)\n",
      "5\n",
      "diffρ=(3.113114425705278e-5,3.955335422619502e-5,0.0)\n",
      "6\n",
      "diffρ=(9.712752674926003e-6,1.1941437625301951e-5,0.0)\n",
      "7\n",
      "diffρ=(2.9659911957099525e-6,3.7796283381258893e-6,0.0)\n"
     ]
    },
    {
     "name": "stderr",
     "output_type": "stream",
     "text": [
      "WARNING: replacing module NuclParameters.\n",
      "WARNING: replacing module LambdaParameters.\n",
      "WARNING: replacing module MyLib.\n"
     ]
    }
   ],
   "source": [
    "include(\"Main.jl\")\n",
    "AN=AtomNum(20,28,0)\n",
    "NParamType=\"VB1\"\n",
    "LParamType=\"NaN\"\n",
    "OutPutFiles(AN,NParamType=NParamType,LParamType=LParamType)"
   ]
  },
  {
   "cell_type": "code",
   "execution_count": 4,
   "id": "fde5cb18",
   "metadata": {},
   "outputs": [
    {
     "name": "stdout",
     "output_type": "stream",
     "text": [
      "diffρ=(0.2932134344507073,0.04297992484702791,0.0)\n",
      "1\n",
      "diffρ=(0.00233041535959286,0.001257636188042409,0.0)\n",
      "2\n",
      "diffρ=(0.046678370745002834,0.0006492712588389796,0.0)\n",
      "3\n",
      "diffρ=(0.0004754822915601592,0.0002844179044410195,0.0)\n",
      "4\n",
      "diffρ=(0.000309934589355104,0.00014965407281859137,0.0)\n",
      "5\n",
      "diffρ=(0.00020107693997769408,7.950653080338964e-5,0.0)\n",
      "6\n",
      "diffρ=(0.00013002208253827852,4.247126159831626e-5,0.0)\n",
      "7\n",
      "diffρ=(8.393023893284611e-5,2.2643771937395946e-5,0.0)\n",
      "8\n",
      "diffρ=(5.4113181572118054e-5,1.2014126180634467e-5,0.0)\n",
      "9\n",
      "diffρ=(0.008926764286978686,6.314897042478924e-6,0.0)\n",
      "10\n",
      "diffρ=(0.009254515124728068,2.407659714425299e-6,0.0)\n",
      "11\n",
      "diffρ=(2.770066045863133e-5,3.840954028705124e-6,0.0)\n",
      "12\n",
      "diffρ=(0.008901885279030025,1.886094016498456e-6,0.0)\n",
      "13\n",
      "diffρ=(0.009420397810809084,2.586731642321163e-6,0.0)\n",
      "14\n",
      "diffρ=(1.9431698820701092e-5,1.918049368825686e-6,0.0)\n",
      "15\n",
      "diffρ=(0.008897187503071169,8.917219106235142e-7,0.0)\n",
      "16\n",
      "diffρ=(0.009507186645250732,3.1329858119435343e-6,0.0)\n",
      "17\n",
      "diffρ=(1.6531402163837718e-5,1.4128405394362313e-6,0.0)\n",
      "18\n",
      "diffρ=(0.008899746306275342,6.410178577365624e-7,0.0)\n",
      "19\n",
      "diffρ=(0.009552678359643001,3.4321288993469685e-6,0.0)\n",
      "20\n",
      "diffρ=(1.5375218552364677e-5,1.264010855402676e-6,0.0)\n",
      "21\n",
      "diffρ=(0.008903993485645929,5.787344749830986e-7,0.0)\n",
      "22\n",
      "diffρ=(0.009577276567819249,3.565122750307659e-6,0.0)\n",
      "23\n",
      "diffρ=(1.488780011899268e-5,1.226385530199268e-6,0.0)\n",
      "24\n",
      "diffρ=(0.008907880840534345,5.645817183647851e-7,0.0)\n",
      "25\n",
      "diffρ=(0.00959087530258438,3.6137081468675976e-6,0.0)\n",
      "26\n",
      "diffρ=(1.467769423583585e-5,1.221979894848238e-6,0.0)\n",
      "27\n",
      "diffρ=(0.008911174318401811,5.627113604607454e-7,0.0)\n",
      "28\n",
      "diffρ=(0.009598638152759452,3.622750916688004e-6,0.0)\n",
      "29\n",
      "diffρ=(1.4579013056640639e-5,1.2338385451532671e-6,0.0)\n",
      "30\n",
      "diffρ=(0.00891339509630002,5.648650649904971e-7,0.0)\n",
      "31\n",
      "diffρ=(0.009602540137478853,3.6216165936399136e-6,0.0)\n",
      "32\n",
      "diffρ=(1.45126009723197e-5,1.2373522617506609e-6,0.0)\n",
      "33\n",
      "diffρ=(0.00891530242276761,5.728601942553735e-7,0.0)\n",
      "34\n",
      "diffρ=(0.009605329905357453,3.618949952710181e-6,0.0)\n",
      "35\n",
      "diffρ=(1.4493095935999525e-5,1.2493637234062515e-6,0.0)\n",
      "36\n",
      "diffρ=(9.319327287191577e-6,5.753989246972284e-7,0.0)\n"
     ]
    },
    {
     "name": "stderr",
     "output_type": "stream",
     "text": [
      "WARNING: replacing module NuclParameters.\n",
      "WARNING: replacing module LambdaParameters.\n",
      "WARNING: replacing module MyLib.\n"
     ]
    }
   ],
   "source": [
    "include(\"Main.jl\")\n",
    "AN=AtomNum(40,50,0)\n",
    "NParamType=\"VB1\"\n",
    "LParamType=\"NaN\"\n",
    "OutPutFiles(AN,NParamType=NParamType,LParamType=LParamType,α=0.1)"
   ]
  },
  {
   "cell_type": "code",
   "execution_count": 5,
   "id": "d8428341",
   "metadata": {},
   "outputs": [
    {
     "name": "stdout",
     "output_type": "stream",
     "text": [
      "diffρ=(0.2381559678192133,0.20467615451542584,0.0)\n",
      "1\n",
      "diffρ=(0.090623893490253,0.05381228457417077,0.0)\n",
      "2\n",
      "diffρ=(0.0008098511219592035,0.0012457702696087255,0.0)\n",
      "3\n",
      "diffρ=(7.203984825300198e-5,4.522642335937161e-5,0.0)\n",
      "4\n",
      "diffρ=(7.374754764922218e-6,2.0519800341938422e-5,0.0)\n",
      "5\n",
      "diffρ=(3.7865699466359607e-6,7.418972705975244e-6,0.0)\n"
     ]
    },
    {
     "name": "stderr",
     "output_type": "stream",
     "text": [
      "WARNING: replacing module NuclParameters.\n",
      "WARNING: replacing module LambdaParameters.\n",
      "WARNING: replacing module MyLib.\n"
     ]
    }
   ],
   "source": [
    "include(\"Main.jl\")\n",
    "AN=AtomNum(82,126,0)\n",
    "NParamType=\"VB1\"\n",
    "LParamType=\"NaN\"\n",
    "OutPutFiles(AN,NParamType=NParamType,LParamType=LParamType)"
   ]
  },
  {
   "cell_type": "code",
   "execution_count": 6,
   "id": "9e22b395",
   "metadata": {},
   "outputs": [
    {
     "name": "stdout",
     "output_type": "stream",
     "text": [
      "diffρ=(0.3695088366121045,0.30698399739933835,0.0)\n",
      "1\n",
      "diffρ=(0.006774864263870181,0.0035338766842409534,0.0)\n",
      "2\n",
      "diffρ=(0.004181004545670099,0.002010548251345421,0.0)\n",
      "3\n",
      "diffρ=(0.0025421459920804018,0.0011348152236817389,0.0)\n",
      "4\n",
      "diffρ=(0.001534091010940129,0.000635935054274257,0.0)\n",
      "5\n",
      "diffρ=(0.0009234434196581942,0.0003534019921430388,0.0)\n",
      "6\n",
      "diffρ=(0.000556416568228291,0.000194371924859437,0.0)\n",
      "7\n",
      "diffρ=(0.00033654183574725996,0.00010548652841214192,0.0)\n",
      "8\n",
      "diffρ=(0.00020477105803929797,5.612724827482342e-5,0.0)\n",
      "9\n",
      "diffρ=(0.0001255778354758125,2.913192675276479e-5,0.0)\n",
      "10\n",
      "diffρ=(7.78139115024951e-5,1.4591438898799904e-5,0.0)\n",
      "11\n",
      "diffρ=(4.8780393591006735e-5,6.949859457481921e-6,0.0)\n",
      "12\n",
      "diffρ=(3.098785412291445e-5,3.0815287625054415e-6,0.0)\n",
      "13\n",
      "diffρ=(2.0007782015881183e-5,1.232644787139417e-6,0.0)\n",
      "14\n",
      "diffρ=(1.312449654797866e-5,4.420216483810792e-7,0.0)\n",
      "15\n",
      "diffρ=(8.777397175751422e-6,1.7539712982580356e-7,0.0)\n"
     ]
    },
    {
     "name": "stderr",
     "output_type": "stream",
     "text": [
      "WARNING: replacing module NuclParameters.\n",
      "WARNING: replacing module LambdaParameters.\n",
      "WARNING: replacing module MyLib.\n"
     ]
    }
   ],
   "source": [
    "include(\"Main.jl\")\n",
    "AN=AtomNum(114,184,0)\n",
    "NParamType=\"VB1\"\n",
    "LParamType=\"NaN\"\n",
    "OutPutFiles(AN,NParamType=NParamType,LParamType=LParamType,α=0.1)"
   ]
  },
  {
   "cell_type": "code",
   "execution_count": null,
   "id": "7a2710f6",
   "metadata": {},
   "outputs": [],
   "source": []
  }
 ],
 "metadata": {
  "kernelspec": {
   "display_name": "Julia 1.7.3",
   "language": "julia",
   "name": "julia-1.7"
  },
  "language_info": {
   "file_extension": ".jl",
   "mimetype": "application/julia",
   "name": "julia",
   "version": "1.7.3"
  }
 },
 "nbformat": 4,
 "nbformat_minor": 5
}
