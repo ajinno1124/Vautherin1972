{
 "cells": [
  {
   "cell_type": "code",
   "execution_count": 1,
   "id": "10a0811c",
   "metadata": {},
   "outputs": [
    {
     "name": "stdout",
     "output_type": "stream",
     "text": [
      "diffρ=(0.008369591705626884,0.007844676428242036,0.0)\n",
      "1\n",
      "diffρ=(0.004146662625761656,0.0038835014788301684,0.0)\n",
      "2\n",
      "diffρ=(0.00021486854519600363,0.0002044225352698057,0.0)\n",
      "3\n",
      "diffρ=(2.1864268671285523e-5,2.199003663083459e-5,0.0)\n",
      "4\n",
      "diffρ=(2.311883987524542e-6,2.369777180982854e-6,0.0)\n"
     ]
    }
   ],
   "source": [
    "include(\"Main.jl\")\n",
    "AN=AtomNum(8,8,0)\n",
    "NParamType=\"VB1\"\n",
    "LParamType=\"HPL2\"\n",
    "OutPutFiles(AN,NParamType=NParamType,LParamType=LParamType)"
   ]
  },
  {
   "cell_type": "code",
   "execution_count": 2,
   "id": "669a222c",
   "metadata": {},
   "outputs": [
    {
     "name": "stdout",
     "output_type": "stream",
     "text": [
      "diffρ=(0.025545104994207514,0.017451544880970418,0.0)\n",
      "1\n",
      "diffρ=(0.008422763260400297,0.006513561794185416,0.0)\n",
      "2\n",
      "diffρ=(0.0011049084446138112,0.0012253140789954986,0.0)\n",
      "3\n",
      "diffρ=(0.00045395959758563927,0.00047414093196951866,0.0)\n",
      "4\n",
      "diffρ=(0.00018283945376065355,0.000192038231083162,0.0)\n",
      "5\n",
      "diffρ=(7.45819307747903e-5,7.794848206588845e-5,0.0)\n",
      "6\n",
      "diffρ=(3.0034938236780593e-5,3.136565938403137e-5,0.0)\n",
      "7\n",
      "diffρ=(1.2171723226946514e-5,1.2709203165700515e-5,0.0)\n",
      "8\n",
      "diffρ=(4.89625127239359e-6,5.106642357965642e-6,0.0)\n"
     ]
    },
    {
     "name": "stderr",
     "output_type": "stream",
     "text": [
      "WARNING: replacing module NuclParameters.\n",
      "WARNING: replacing module LambdaParameters.\n",
      "WARNING: replacing module MyLib.\n"
     ]
    }
   ],
   "source": [
    "include(\"Main.jl\")\n",
    "AN=AtomNum(20,20,0)\n",
    "NParamType=\"VB1\"\n",
    "LParamType=\"HPL2\"\n",
    "OutPutFiles(AN,NParamType=NParamType,LParamType=LParamType)"
   ]
  },
  {
   "cell_type": "code",
   "execution_count": 3,
   "id": "34ddfcec",
   "metadata": {},
   "outputs": [
    {
     "name": "stdout",
     "output_type": "stream",
     "text": [
      "diffρ=(0.06318099966499939,0.05036255659855078,0.0)\n",
      "1\n",
      "diffρ=(0.019403912540227133,0.018348049401792018,0.0)\n",
      "2\n",
      "diffρ=(0.0007646858735965012,0.0018393044289676528,0.0)\n",
      "3\n",
      "diffρ=(0.0003431254833564119,0.00042138939204661835,0.0)\n",
      "4\n",
      "diffρ=(0.00010347968073851023,0.00013392764362763046,0.0)\n",
      "5\n",
      "diffρ=(3.297265729105822e-5,4.202170110924932e-5,0.0)\n",
      "6\n",
      "diffρ=(1.0387152900359939e-5,1.2831803673522678e-5,0.0)\n",
      "7\n",
      "diffρ=(3.208922570192308e-6,4.100489629355577e-6,0.0)\n"
     ]
    },
    {
     "name": "stderr",
     "output_type": "stream",
     "text": [
      "WARNING: replacing module NuclParameters.\n",
      "WARNING: replacing module LambdaParameters.\n",
      "WARNING: replacing module MyLib.\n"
     ]
    }
   ],
   "source": [
    "include(\"Main.jl\")\n",
    "AN=AtomNum(20,28,0)\n",
    "NParamType=\"VB1\"\n",
    "LParamType=\"HPL2\"\n",
    "OutPutFiles(AN,NParamType=NParamType,LParamType=LParamType)"
   ]
  },
  {
   "cell_type": "code",
   "execution_count": 4,
   "id": "fde5cb18",
   "metadata": {},
   "outputs": [
    {
     "name": "stdout",
     "output_type": "stream",
     "text": [
      "diffρ=(0.2885378281895813,0.04297992484702791,0.0)\n",
      "1\n",
      "diffρ=(0.0022610927254147367,0.0012399206600189209,0.0)\n",
      "2\n",
      "diffρ=(0.0467698122843728,0.00063866974283764,0.0)\n",
      "3\n",
      "diffρ=(0.00045971584404402665,0.00027960451948612694,0.0)\n",
      "4\n",
      "diffρ=(0.00029989200226854577,0.00014696134504019946,0.0)\n",
      "5\n",
      "diffρ=(0.00019473666047371916,7.799409940094024e-5,0.0)\n",
      "6\n",
      "diffρ=(0.00012608453889109564,4.155017164790913e-5,0.0)\n",
      "7\n",
      "diffρ=(8.152088970678864e-5,2.2134009883696e-5,0.0)\n",
      "8\n",
      "diffρ=(5.265699366170146e-5,1.1735944643603491e-5,0.0)\n",
      "9\n",
      "diffρ=(0.008979754109654459,6.163382076599034e-6,0.0)\n",
      "10\n",
      "diffρ=(0.009323210545044766,2.45649036635504e-6,0.0)\n",
      "11\n",
      "diffρ=(2.725956652586443e-5,3.8018961605561902e-6,0.0)\n",
      "12\n",
      "diffρ=(0.008958258819612892,1.8607173842370123e-6,0.0)\n",
      "13\n",
      "diffρ=(0.00948526083766505,2.660409197088316e-6,0.0)\n",
      "14\n",
      "diffρ=(1.928213727478343e-5,1.9308762863150376e-6,0.0)\n",
      "15\n",
      "diffρ=(0.008955241931118183,8.942541149313198e-7,0.0)\n",
      "16\n",
      "diffρ=(0.009569996507550438,3.2037283758429228e-6,0.0)\n",
      "17\n",
      "diffρ=(1.6464387046356208e-5,1.4323022717358947e-6,0.0)\n",
      "18\n",
      "diffρ=(0.00895816789310365,6.517780847648594e-7,0.0)\n",
      "19\n",
      "diffρ=(0.009614727187191419,3.498334686207711e-6,0.0)\n",
      "20\n",
      "diffρ=(1.537329999788189e-5,1.2861110289904643e-6,0.0)\n",
      "21\n",
      "diffρ=(0.008962537966158802,5.897072743450448e-7,0.0)\n",
      "22\n",
      "diffρ=(0.009638976252139437,3.631252237438591e-6,0.0)\n",
      "23\n",
      "diffρ=(1.488212104549385e-5,1.2496293714053832e-6,0.0)\n",
      "24\n",
      "diffρ=(0.008966710849104725,5.761182702441959e-7,0.0)\n",
      "25\n",
      "diffρ=(0.009652175280914846,3.683414211090919e-6,0.0)\n",
      "26\n",
      "diffρ=(1.4676213423652608e-5,1.2508797332602935e-6,0.0)\n",
      "27\n",
      "diffρ=(9.455390323854613e-6,5.736260567746744e-7,0.0)\n"
     ]
    },
    {
     "name": "stderr",
     "output_type": "stream",
     "text": [
      "WARNING: replacing module NuclParameters.\n",
      "WARNING: replacing module LambdaParameters.\n",
      "WARNING: replacing module MyLib.\n"
     ]
    }
   ],
   "source": [
    "include(\"Main.jl\")\n",
    "AN=AtomNum(40,50,0)\n",
    "NParamType=\"VB1\"\n",
    "LParamType=\"HPL2\"\n",
    "OutPutFiles(AN,NParamType=NParamType,LParamType=LParamType,α=0.1)"
   ]
  },
  {
   "cell_type": "code",
   "execution_count": null,
   "id": "d8428341",
   "metadata": {},
   "outputs": [],
   "source": [
    "include(\"Main.jl\")\n",
    "AN=AtomNum(82,126,0)\n",
    "NParamType=\"VB1\"\n",
    "LParamType=\"HPL2\"\n",
    "OutPutFiles(AN,NParamType=NParamType,LParamType=LParamType)"
   ]
  },
  {
   "cell_type": "code",
   "execution_count": null,
   "id": "9e22b395",
   "metadata": {},
   "outputs": [],
   "source": [
    "include(\"Main.jl\")\n",
    "AN=AtomNum(114,184,0)\n",
    "NParamType=\"VB1\"\n",
    "LParamType=\"HPL2\"\n",
    "OutPutFiles(AN,NParamType=NParamType,LParamType=LParamType,α=0.1)"
   ]
  },
  {
   "cell_type": "code",
   "execution_count": null,
   "id": "7a2710f6",
   "metadata": {},
   "outputs": [],
   "source": []
  }
 ],
 "metadata": {
  "kernelspec": {
   "display_name": "Julia 1.7.0",
   "language": "julia",
   "name": "julia-1.7"
  },
  "language_info": {
   "file_extension": ".jl",
   "mimetype": "application/julia",
   "name": "julia",
   "version": "1.7.0"
  }
 },
 "nbformat": 4,
 "nbformat_minor": 5
}
