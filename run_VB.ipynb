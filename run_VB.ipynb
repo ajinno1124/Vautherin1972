{
 "cells": [
  {
   "cell_type": "code",
   "execution_count": 5,
   "id": "10a0811c",
   "metadata": {
    "scrolled": true
   },
   "outputs": [
    {
     "name": "stdout",
     "output_type": "stream",
     "text": [
      "diffρ=(0.008875784956933499,0.007844676428242034,0.0)\n",
      "1\n"
     ]
    },
    {
     "name": "stderr",
     "output_type": "stream",
     "text": [
      "WARNING: replacing module NuclParameters.\n",
      "WARNING: replacing module LambdaParameters.\n",
      "WARNING: replacing module MyLib.\n"
     ]
    },
    {
     "name": "stdout",
     "output_type": "stream",
     "text": [
      "diffρ=(0.004342042729557224,0.0038626343379236554,0.0)\n",
      "2\n",
      "diffρ=(0.00021622192426145535,0.00020118972225303592,0.0)\n",
      "3\n",
      "diffρ=(2.1430210144900724e-5,2.1236647647423075e-5,0.0)\n",
      "4\n",
      "diffρ=(2.1903315312538644e-6,2.2349740340501217e-6,0.0)\n"
     ]
    }
   ],
   "source": [
    "include(\"Main.jl\")\n",
    "AN=AtomNum(8,8,0)\n",
    "NParamType=\"VB1\"\n",
    "LParamType=\"NaN\"\n",
    "OutPutFiles(AN,NParamType=NParamType,LParamType=LParamType)"
   ]
  },
  {
   "cell_type": "code",
   "execution_count": 6,
   "id": "669a222c",
   "metadata": {},
   "outputs": [
    {
     "name": "stdout",
     "output_type": "stream",
     "text": [
      "diffρ=(0.026935290199375184,0.017451544880970418,0.0)\n",
      "1\n"
     ]
    },
    {
     "name": "stderr",
     "output_type": "stream",
     "text": [
      "WARNING: replacing module NuclParameters.\n",
      "WARNING: replacing module LambdaParameters.\n",
      "WARNING: replacing module MyLib.\n"
     ]
    },
    {
     "name": "stdout",
     "output_type": "stream",
     "text": [
      "diffρ=(0.008755448725791353,0.006449401613035363,0.0)\n",
      "2\n",
      "diffρ=(0.0010792035452364234,0.001203344076048759,0.0)\n",
      "3\n",
      "diffρ=(0.00044043834862692347,0.000458389356152902,0.0)\n",
      "4\n",
      "diffρ=(0.00017540090155867438,0.00018369277597721936,0.0)\n",
      "5\n",
      "diffρ=(7.081138696914009e-5,7.373899973622042e-5,0.0)\n",
      "6\n",
      "diffρ=(2.8206368068034758e-5,2.9334836701424424e-5,0.0)\n",
      "7\n",
      "diffρ=(1.1305757534985935e-5,1.175980166085735e-5,0.0)\n",
      "8\n",
      "diffρ=(4.4964857506949146e-6,4.672825785833467e-6,0.0)\n"
     ]
    }
   ],
   "source": [
    "include(\"Main.jl\")\n",
    "AN=AtomNum(20,20,0)\n",
    "NParamType=\"VB1\"\n",
    "LParamType=\"NaN\"\n",
    "OutPutFiles(AN,NParamType=NParamType,LParamType=LParamType)"
   ]
  },
  {
   "cell_type": "code",
   "execution_count": 7,
   "id": "34ddfcec",
   "metadata": {},
   "outputs": [
    {
     "name": "stdout",
     "output_type": "stream",
     "text": [
      "diffρ=(0.06553733357909103,0.05036255659855078,0.0)\n",
      "1\n"
     ]
    },
    {
     "name": "stderr",
     "output_type": "stream",
     "text": [
      "WARNING: replacing module NuclParameters.\n",
      "WARNING: replacing module LambdaParameters.\n",
      "WARNING: replacing module MyLib.\n"
     ]
    },
    {
     "name": "stdout",
     "output_type": "stream",
     "text": [
      "diffρ=(0.020162753085885932,0.01851845118003774,0.0)\n",
      "2\n",
      "diffρ=(0.0007385127550969804,0.001813258290308653,0.0)\n",
      "3\n",
      "diffρ=(0.0003304976838705655,0.00040572669339501737,0.0)\n",
      "4\n",
      "diffρ=(9.870299286732327e-5,0.00012745913830736712,0.0)\n",
      "5\n",
      "diffρ=(3.1131144257591404e-5,3.9553354226001754e-5,0.0)\n",
      "6\n",
      "diffρ=(9.71275267626564e-6,1.1941437624625645e-5,0.0)\n",
      "7\n",
      "diffρ=(2.965991196737259e-6,3.779628337600187e-6,0.0)\n"
     ]
    }
   ],
   "source": [
    "include(\"Main.jl\")\n",
    "AN=AtomNum(20,28,0)\n",
    "NParamType=\"VB1\"\n",
    "LParamType=\"NaN\"\n",
    "OutPutFiles(AN,NParamType=NParamType,LParamType=LParamType)"
   ]
  },
  {
   "cell_type": "code",
   "execution_count": 8,
   "id": "fde5cb18",
   "metadata": {},
   "outputs": [
    {
     "name": "stdout",
     "output_type": "stream",
     "text": [
      "diffρ=(0.2932134344507073,0.04297992484702791,0.0)\n",
      "1\n"
     ]
    },
    {
     "name": "stderr",
     "output_type": "stream",
     "text": [
      "WARNING: replacing module NuclParameters.\n",
      "WARNING: replacing module LambdaParameters.\n",
      "WARNING: replacing module MyLib.\n"
     ]
    },
    {
     "name": "stdout",
     "output_type": "stream",
     "text": [
      "diffρ=(0.002330415359593114,0.001257636188043036,0.0)\n",
      "2\n",
      "diffρ=(0.046678370744990816,0.0006492712588387254,0.0)\n",
      "3\n",
      "diffρ=(0.0004754822915654289,0.00028441790444073354,0.0)\n",
      "4\n",
      "diffρ=(0.00030993458935578227,0.00014965407281795396,0.0)\n",
      "5\n",
      "diffρ=(0.0002010769399733044,7.950653080333794e-5,0.0)\n",
      "6\n",
      "diffρ=(0.00013002208254114632,4.2471261599785956e-5,0.0)\n",
      "7\n",
      "diffρ=(8.393023893215025e-5,2.2643771936709913e-5,0.0)\n",
      "8\n",
      "diffρ=(5.411318157246461e-5,1.2014126180499245e-5,0.0)\n",
      "9\n",
      "diffρ=(0.008926764286989165,6.31489704283297e-6,0.0)\n",
      "10\n",
      "diffρ=(0.009254515124742835,2.4076597143019004e-6,0.0)\n",
      "11\n",
      "diffρ=(2.7700660457843942e-5,3.840954028727642e-6,0.0)\n",
      "12\n",
      "diffρ=(0.00890188527904092,1.886094016727995e-6,0.0)\n",
      "13\n",
      "diffρ=(0.009420397810808778,2.5867316423812694e-6,0.0)\n",
      "14\n",
      "diffρ=(1.9431698819774767e-5,1.9180493690367476e-6,0.0)\n",
      "15\n",
      "diffρ=(0.008897187503082082,8.917219104238658e-7,0.0)\n",
      "16\n",
      "diffρ=(0.009507186645260499,3.1329858118504823e-6,0.0)\n",
      "17\n",
      "diffρ=(1.6531402164614986e-5,1.4128405396067069e-6,0.0)\n",
      "18\n",
      "diffρ=(0.008899746306271243,6.410178576058214e-7,0.0)\n",
      "19\n",
      "diffρ=(0.00955267835964368,3.4321288992795713e-6,0.0)\n",
      "20\n",
      "diffρ=(1.5375218553104333e-5,1.2640108553122775e-6,0.0)\n",
      "21\n",
      "diffρ=(0.008903993485627383,5.787344750283499e-7,0.0)\n",
      "22\n",
      "diffρ=(0.009577276567810626,3.565122750381752e-6,0.0)\n",
      "23\n",
      "diffρ=(1.4887800118312122e-5,1.2263855302435165e-6,0.0)\n",
      "24\n",
      "diffρ=(0.00890788084054141,5.645817183156535e-7,0.0)\n",
      "25\n",
      "diffρ=(0.00959087530257537,3.6137081467359237e-6,0.0)\n",
      "26\n",
      "diffρ=(1.4677694235297527e-5,1.2219798948030317e-6,0.0)\n",
      "27\n",
      "diffρ=(0.008911174318399814,5.627113604763363e-7,0.0)\n",
      "28\n",
      "diffρ=(0.009598638152752585,3.6227509165964278e-6,0.0)\n",
      "29\n",
      "diffρ=(1.4579013056415985e-5,1.2338385451060901e-6,0.0)\n",
      "30\n",
      "diffρ=(0.008913395096310077,5.648650649658647e-7,0.0)\n",
      "31\n",
      "diffρ=(0.009602540137493476,3.6216165936568505e-6,0.0)\n",
      "32\n",
      "diffρ=(1.4512600972307298e-5,1.2373522618593689e-6,0.0)\n",
      "33\n",
      "diffρ=(0.008915302422762067,5.72860194238188e-7,0.0)\n",
      "34\n",
      "diffρ=(0.009605329905352546,3.6189499527189363e-6,0.0)\n",
      "35\n",
      "diffρ=(1.4493095936448406e-5,1.2493637234042184e-6,0.0)\n",
      "36\n",
      "diffρ=(9.319327287682573e-6,5.753989246249874e-7,0.0)\n"
     ]
    }
   ],
   "source": [
    "include(\"Main.jl\")\n",
    "AN=AtomNum(40,50,0)\n",
    "NParamType=\"VB1\"\n",
    "LParamType=\"NaN\"\n",
    "OutPutFiles(AN,NParamType=NParamType,LParamType=LParamType,α=0.1)"
   ]
  },
  {
   "cell_type": "code",
   "execution_count": 9,
   "id": "d8428341",
   "metadata": {},
   "outputs": [
    {
     "name": "stdout",
     "output_type": "stream",
     "text": [
      "diffρ=(0.2381559678192133,0.20467615451542587,0.0)\n",
      "1\n"
     ]
    },
    {
     "name": "stderr",
     "output_type": "stream",
     "text": [
      "WARNING: replacing module NuclParameters.\n",
      "WARNING: replacing module LambdaParameters.\n",
      "WARNING: replacing module MyLib.\n"
     ]
    },
    {
     "name": "stdout",
     "output_type": "stream",
     "text": [
      "diffρ=(0.09062389349024491,0.05381228457417019,0.0)\n",
      "2\n",
      "diffρ=(0.0008098511219460686,0.0012457702696115252,0.0)\n",
      "3\n",
      "diffρ=(7.203984824738358e-5,4.522642335938634e-5,0.0)\n",
      "4\n",
      "diffρ=(7.37475476472736e-6,2.0519800341620734e-5,0.0)\n",
      "5\n",
      "diffρ=(3.786569946710068e-6,7.418972705569734e-6,0.0)\n"
     ]
    }
   ],
   "source": [
    "include(\"Main.jl\")\n",
    "AN=AtomNum(82,126,0)\n",
    "NParamType=\"VB1\"\n",
    "LParamType=\"NaN\"\n",
    "OutPutFiles(AN,NParamType=NParamType,LParamType=LParamType)"
   ]
  },
  {
   "cell_type": "code",
   "execution_count": 10,
   "id": "9e22b395",
   "metadata": {},
   "outputs": [
    {
     "name": "stdout",
     "output_type": "stream",
     "text": [
      "diffρ=(0.3695088366121058,0.3069839973993384,0.0)\n",
      "1\n"
     ]
    },
    {
     "name": "stderr",
     "output_type": "stream",
     "text": [
      "WARNING: replacing module NuclParameters.\n",
      "WARNING: replacing module LambdaParameters.\n",
      "WARNING: replacing module MyLib.\n"
     ]
    },
    {
     "name": "stdout",
     "output_type": "stream",
     "text": [
      "diffρ=(0.0067748642638739,0.0035338766842355554,0.0)\n",
      "2\n",
      "diffρ=(0.004181004545652302,0.0020105482513557344,0.0)\n",
      "3\n",
      "diffρ=(0.0025421459921108323,0.0011348152236767225,0.0)\n",
      "4\n",
      "diffρ=(0.0015340910109347369,0.0006359350542757124,0.0)\n",
      "5\n",
      "diffρ=(0.0009234434196539539,0.00035340199214257376,0.0)\n",
      "6\n",
      "diffρ=(0.0005564165682142673,0.00019437192486053967,0.0)\n",
      "7\n",
      "diffρ=(0.000336541835763344,0.00010548652841081016,0.0)\n",
      "8\n",
      "diffρ=(0.00020477105803737097,5.6127248275005765e-5,0.0)\n",
      "9\n",
      "diffρ=(0.00012557783546890552,2.9131926752804976e-5,0.0)\n",
      "10\n",
      "diffρ=(7.781391150436444e-5,1.4591438899067504e-5,0.0)\n",
      "11\n",
      "diffρ=(4.878039359188852e-5,6.949859457360969e-6,0.0)\n",
      "12\n",
      "diffρ=(3.098785412211543e-5,3.0815287624982875e-6,0.0)\n",
      "13\n",
      "diffρ=(2.0007782018069506e-5,1.2326447870723307e-6,0.0)\n",
      "14\n",
      "diffρ=(1.3124496546394632e-5,4.42021648420358e-7,0.0)\n",
      "15\n",
      "diffρ=(8.777397175062205e-6,1.753971298481304e-7,0.0)\n"
     ]
    }
   ],
   "source": [
    "include(\"Main.jl\")\n",
    "AN=AtomNum(114,184,0)\n",
    "NParamType=\"VB1\"\n",
    "LParamType=\"NaN\"\n",
    "OutPutFiles(AN,NParamType=NParamType,LParamType=LParamType,α=0.1)"
   ]
  },
  {
   "cell_type": "code",
   "execution_count": null,
   "id": "7a2710f6",
   "metadata": {},
   "outputs": [],
   "source": []
  }
 ],
 "metadata": {
  "kernelspec": {
   "display_name": "Julia 1.7.3",
   "language": "julia",
   "name": "julia-1.7"
  },
  "language_info": {
   "file_extension": ".jl",
   "mimetype": "application/julia",
   "name": "julia",
   "version": "1.7.3"
  }
 },
 "nbformat": 4,
 "nbformat_minor": 5
}
